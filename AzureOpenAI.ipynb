{
  "nbformat": 4,
  "nbformat_minor": 0,
  "metadata": {
    "colab": {
      "provenance": [],
      "toc_visible": true,
      "authorship_tag": "ABX9TyOswJT5u7phTmnz7nMSoCxS",
      "include_colab_link": true
    },
    "kernelspec": {
      "name": "python3",
      "display_name": "Python 3"
    },
    "language_info": {
      "name": "python"
    }
  },
  "cells": [
    {
      "cell_type": "markdown",
      "metadata": {
        "id": "view-in-github",
        "colab_type": "text"
      },
      "source": [
        "<a href=\"https://colab.research.google.com/github/hardik2447/OpenAI/blob/main/AzureOpenAI.ipynb\" target=\"_parent\"><img src=\"https://colab.research.google.com/assets/colab-badge.svg\" alt=\"Open In Colab\"/></a>"
      ]
    },
    {
      "cell_type": "markdown",
      "source": [
        "# New Section\n",
        "---\n",
        "\n",
        "\n",
        "\n"
      ],
      "metadata": {
        "id": "k96V5DAmK56Z"
      }
    },
    {
      "cell_type": "code",
      "execution_count": null,
      "metadata": {
        "id": "vEKye2buJ0I5"
      },
      "outputs": [],
      "source": [
        "# prompt: I want to write the code file to connect azure open AI url and doing chat completion definition using python code\n",
        "\n",
        "import os\n",
        "import openai\n",
        "\n",
        "# Replace with your actual values\n",
        "openai.api_type = \"azure\"\n",
        "openai.api_base = \"YOUR_AZURE_OPENAI_ENDPOINT\"  # e.g., \"https://your-resource-name.openai.azure.com/\"\n",
        "openai.api_version = \"2023-05-15\"  # Or your desired API version\n",
        "openai.api_key = os.getenv(\"AZURE_OPENAI_API_KEY\") # Or set directly: \"YOUR_AZURE_OPENAI_API_KEY\"\n",
        "\n",
        "\n",
        "def chat_completion(messages, model=\"gpt-35-turbo\", temperature=0.7, max_tokens=100):\n",
        "    try:\n",
        "        response = openai.ChatCompletion.create(\n",
        "            engine=model,  # Replace with your deployed model name\n",
        "            messages=messages,\n",
        "            temperature=temperature,\n",
        "            max_tokens=max_tokens,\n",
        "        )\n",
        "        return response.choices[0].message[\"content\"]\n",
        "    except openai.error.OpenAIError as e:\n",
        "        print(f\"An error occurred: {e}\")\n",
        "        return None\n",
        "\n",
        "# Example usage\n",
        "messages = [\n",
        "    {\"role\": \"system\", \"content\": \"You are a helpful assistant.\"},\n",
        "    {\"role\": \"user\", \"content\": \"What is the capital of France?\"},\n",
        "]\n",
        "\n",
        "response = chat_completion(messages)\n",
        "\n",
        "if response:\n",
        "response"
      ]
    }
  ]
}